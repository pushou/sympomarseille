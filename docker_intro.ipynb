{
 "cells": [
  {
   "cell_type": "markdown",
   "metadata": {
    "slideshow": {
     "slide_type": "slide"
    }
   },
   "source": [
    "# Démo Docker en 10 minutes\n",
    "\n",
    "Docker permet de créer des containers applicatifs. Comme LXC il est basé sur les CGROUPS, les CAPABILITIES et les NAMESPACES.\n",
    " \n",
    "Il a été créé par des développeurs en suivant des principes objets (on parle d'infrastructure as code, de commit de container, d'instanciation d'images... ). Son but est de faire tourner une infrastucture en microservice. L'unité de base est l'application pas la la machine virtuelle.\n",
    "\n",
    "\n",
    "## Prise de contact avec Docker\n"
   ]
  },
  {
   "cell_type": "markdown",
   "metadata": {
    "slideshow": {
     "slide_type": "slide"
    }
   },
   "source": [
    "### Un container très simple:\n",
    "\n",
    "Ce container exécute une commande ping. L'environnement est celui de la distribution busybox. Le container est détruit une fois la commande exécutée (--rm).Un container qui n'a pas de process s'arrête.\n"
   ]
  },
  {
   "cell_type": "code",
   "execution_count": 1,
   "metadata": {
    "collapsed": false,
    "slideshow": {
     "slide_type": "subslide"
    }
   },
   "outputs": [
    {
     "name": "stdout",
     "output_type": "stream",
     "text": [
      "PING www.google.fr (216.58.210.227): 56 data bytes\r\n",
      "64 bytes from 216.58.210.227: seq=0 ttl=37 time=0.132 ms\r\n",
      "64 bytes from 216.58.210.227: seq=1 ttl=37 time=0.443 ms\r\n",
      "64 bytes from 216.58.210.227: seq=2 ttl=37 time=0.434 ms\r\n",
      "64 bytes from 216.58.210.227: seq=3 ttl=37 time=0.637 ms\r\n",
      "\r\n",
      "--- www.google.fr ping statistics ---\r\n",
      "4 packets transmitted, 4 packets received, 0% packet loss\r\n",
      "round-trip min/avg/max = 0.132/0.411/0.637 ms\r\n"
     ]
    }
   ],
   "source": [
    "docker run --rm -it busybox ping -c4 www.google.fr"
   ]
  },
  {
   "cell_type": "markdown",
   "metadata": {
    "slideshow": {
     "slide_type": "subslide"
    }
   },
   "source": [
    "### Lancement d'un container debian \"deb1\"\n",
    "\n"
   ]
  },
  {
   "cell_type": "code",
   "execution_count": 14,
   "metadata": {
    "collapsed": false,
    "scrolled": true,
    "slideshow": {
     "slide_type": "fragment"
    }
   },
   "outputs": [
    {
     "name": "stdout",
     "output_type": "stream",
     "text": [
      "ded901511022877f270e99b9ff31562c1a4ecb25018b6c1b8c8b4f89eb781836\r\n"
     ]
    }
   ],
   "source": [
    "docker run -d --name deb1 --hostname deb1 debian /bin/sh -c 'tailf /dev/null'  "
   ]
  },
  {
   "cell_type": "markdown",
   "metadata": {
    "slideshow": {
     "slide_type": "fragment"
    }
   },
   "source": [
    "On peut remarquer que Docker génère un  id unique que l'on voit ci-dessus:\n",
    "La boucle est infinie et tant que ce process tourne le container est vivant.On peut néanmoins lancer d'autre process dans le container:\n"
   ]
  },
  {
   "cell_type": "code",
   "execution_count": 5,
   "metadata": {
    "collapsed": false,
    "slideshow": {
     "slide_type": "subslide"
    }
   },
   "outputs": [
    {
     "name": "stdout",
     "output_type": "stream",
     "text": [
      "1: lo: <LOOPBACK,UP,LOWER_UP> mtu 65536 qdisc noqueue state UNKNOWN group default qlen 1\r\n",
      "    link/loopback 00:00:00:00:00:00 brd 00:00:00:00:00:00\r\n",
      "    inet 127.0.0.1/8 scope host lo\r\n",
      "       valid_lft forever preferred_lft forever\r\n",
      "    inet6 ::1/128 scope host \r\n",
      "       valid_lft forever preferred_lft forever\r\n",
      "2: sit0@NONE: <NOARP> mtu 1480 qdisc noop state DOWN group default qlen 1\r\n",
      "    link/sit 0.0.0.0 brd 0.0.0.0\r\n",
      "3: ip6tnl0@NONE: <NOARP> mtu 1452 qdisc noop state DOWN group default qlen 1\r\n",
      "    link/tunnel6 :: brd ::\r\n",
      "4: ip6gre0@NONE: <NOARP> mtu 1448 qdisc noop state DOWN group default qlen 1\r\n",
      "    link/gre6 00:00:00:00:00:00:00:00:00:00:00:00:00:00:00:00 brd 00:00:00:00:00:00:00:00:00:00:00:00:00:00:00:00\r\n",
      "124: eth0@if125: <BROADCAST,MULTICAST,UP,LOWER_UP> mtu 1500 qdisc noqueue state UP group default \r\n",
      "    link/ether 02:42:ac:11:00:02 brd ff:ff:ff:ff:ff:ff\r\n",
      "    inet 172.17.0.2/16 scope global eth0\r\n",
      "       valid_lft forever preferred_lft forever\r\n",
      "    inet6 fe80::42:acff:fe11:2/64 scope link \r\n",
      "       valid_lft forever preferred_lft forever\r\n"
     ]
    }
   ],
   "source": [
    "docker exec -it deb1 bash -c 'ip a'"
   ]
  },
  {
   "cell_type": "code",
   "execution_count": 8,
   "metadata": {
    "collapsed": false,
    "slideshow": {
     "slide_type": "subslide"
    }
   },
   "outputs": [
    {
     "name": "stdout",
     "output_type": "stream",
     "text": [
      "8.4\r\n"
     ]
    }
   ],
   "source": [
    "docker exec -it deb1 bash -c 'cat /etc/debian_version'"
   ]
  },
  {
   "cell_type": "markdown",
   "metadata": {
    "slideshow": {
     "slide_type": "subslide"
    }
   },
   "source": [
    "La commande suivante liste les container actifs. "
   ]
  },
  {
   "cell_type": "code",
   "execution_count": 10,
   "metadata": {
    "collapsed": false,
    "slideshow": {
     "slide_type": "fragment"
    }
   },
   "outputs": [
    {
     "name": "stdout",
     "output_type": "stream",
     "text": [
      "CONTAINER ID        IMAGE               COMMAND                  CREATED             STATUS              PORTS               NAMES\r\n",
      "2bde6c5bb734        debian              \"/bin/sh -c 'tailf /d\"   6 minutes ago       Up 6 minutes                            deb1\r\n"
     ]
    }
   ],
   "source": [
    "docker ps"
   ]
  },
  {
   "cell_type": "markdown",
   "metadata": {
    "slideshow": {
     "slide_type": "subslide"
    }
   },
   "source": [
    "L'option -a liste les container actifs et inactifs:"
   ]
  },
  {
   "cell_type": "code",
   "execution_count": 1,
   "metadata": {
    "collapsed": false,
    "slideshow": {
     "slide_type": "fragment"
    }
   },
   "outputs": [
    {
     "name": "stdout",
     "output_type": "stream",
     "text": [
      "CONTAINER ID        IMAGE                                COMMAND                  CREATED             STATUS                      PORTS                    NAMES\r\n",
      "bcaab4c7525c        flaskapp                             \"python app.py\"          4 minutes ago       Up 4 minutes                0.0.0.0:5000->5000/tcp   backstabbing_murdock\r\n",
      "c7d62d5751a0        flaskapp                             \"python2\"                16 minutes ago      Exited (0) 16 minutes ago                            elegant_banach\r\n",
      "fc0cf66b64cb        flaskapp                             \"python2\"                16 minutes ago      Exited (0) 16 minutes ago                            gloomy_stonebraker\r\n",
      "ded901511022        debian                               \"/bin/sh -c 'tailf /d\"   2 hours ago         Exited (137) 2 hours ago                             deb1\r\n",
      "d5a28d49035e        hello-world                          \"/hello\"                 3 hours ago         Exited (0) 3 hours ago                               naughty_albattani\r\n",
      "95f2c22ea0d6        debian                               \"bash\"                   3 hours ago         Exited (0) 3 hours ago                               test\r\n",
      "d283120718d6        debian:wheezy                        \"bash\"                   4 hours ago         Exited (137) 3 hours ago                             distracted_blackwell\r\n",
      "2fab448f2909        debian:wheezy                        \"bash\"                   4 hours ago         Exited (137) 3 hours ago                             trusting_chandrasekhar\r\n",
      "12c9ddd0d07c        debian:wheezy                        \"bash\"                   4 hours ago         Exited (137) 3 hours ago                             trusting_wright\r\n",
      "0c03db1f9574        870923d79648                         \"/bin/sh -c 'git clon\"   9 hours ago         Exited (1) 9 hours ago                               adoring_meitner\r\n",
      "91b5f170be06        6b7aeef3bda4                         \"/bin/sh -c 'pip2 --n\"   10 hours ago        Exited (1) 10 hours ago                              romantic_kilby\r\n",
      "38d19b7a966a        hello-world                          \"/hello\"                 4 days ago          Exited (0) 4 days ago                                trusting_turing\r\n",
      "8e650b681717        busybox                              \"/bin/sh -c 'while tr\"   5 days ago          Exited (0) 5 days ago                                demonet2\r\n",
      "cc3d55283446        busybox                              \"/bin/sh -c 'while tr\"   5 days ago          Exited (0) 5 days ago                                demonet\r\n",
      "d9fb75ceaf67        busybox                              \"/bin/sh -c 'while tr\"   5 days ago          Exited (0) 5 days ago                                stoic_gates\r\n",
      "a6bb720befd9        busybox                              \"sh -c tailf /dev/nul\"   5 days ago          Exited (127) 5 days ago                              sick_stallman\r\n",
      "d3d7b0931629        alpine                               \"bash -c\"                8 days ago          Created                                              angry_torvalds\r\n",
      "70b7aff0bcd4        alpine                               \"bash\"                   8 days ago          Created                                              berserk_stonebraker\r\n",
      "2340a5804f1c        jmp/openvpnclient2                   \"bash\"                   8 days ago          Exited (0) 8 days ago                                ovpnclient\r\n",
      "ead79afe3fe8        jmp/ovpnserv2                        \"bash\"                   8 days ago          Exited (255) 8 days ago                              ovpnserv\r\n",
      "5468805a039f        44776f55294a                         \"tail -f /dev/null\"      2 weeks ago         Exited (0) 2 weeks ago                               application\r\n",
      "b426c46e6f27        44776f55294a                         \"tail -f /dev/null\"      2 weeks ago         Exited (0) 2 weeks ago                               database\r\n",
      "d371b02030b9        registry.iutbeziers.fr/sshdserveur   \"/usr/sbin/sshd -D\"      3 weeks ago         Exited (0) 2 weeks ago                               serveurssh\r\n"
     ]
    }
   ],
   "source": [
    "docker ps -a"
   ]
  },
  {
   "cell_type": "markdown",
   "metadata": {
    "slideshow": {
     "slide_type": "subslide"
    }
   },
   "source": [
    "On va stopper notre container et le supprimer :"
   ]
  },
  {
   "cell_type": "code",
   "execution_count": 2,
   "metadata": {
    "collapsed": false,
    "slideshow": {
     "slide_type": "fragment"
    }
   },
   "outputs": [
    {
     "name": "stdout",
     "output_type": "stream",
     "text": [
      "deb1\r\n",
      "deb1\r\n"
     ]
    }
   ],
   "source": [
    "docker stop deb1 && docker rm deb1"
   ]
  },
  {
   "cell_type": "markdown",
   "metadata": {
    "slideshow": {
     "slide_type": "subslide"
    }
   },
   "source": [
    "On vérifie"
   ]
  },
  {
   "cell_type": "code",
   "execution_count": null,
   "metadata": {
    "collapsed": false,
    "slideshow": {
     "slide_type": "fragment"
    }
   },
   "outputs": [],
   "source": [
    "docker ps"
   ]
  },
  {
   "cell_type": "markdown",
   "metadata": {
    "slideshow": {
     "slide_type": "slide"
    }
   },
   "source": [
    "## Les images\n",
    " \n",
    "\n",
    "Pour créer un container on s'appuie sur des images. Une image permet d'instancier un container. La commande suivante permet de chercher une image centos  sur le registry public de Docker. \n",
    " \n",
    " "
   ]
  },
  {
   "cell_type": "code",
   "execution_count": 3,
   "metadata": {
    "collapsed": false,
    "slideshow": {
     "slide_type": "fragment"
    }
   },
   "outputs": [
    {
     "name": "stdout",
     "output_type": "stream",
     "text": [
      "NAME                            DESCRIPTION                                     STARS     OFFICIAL   AUTOMATED\r\n",
      "centos                          The official build of CentOS.                   2237      [OK]       \r\n",
      "jdeathe/centos-ssh              CentOS-6 6.7 x86_64 / CentOS-7 7.2.1511 x8...   22                   [OK]\r\n",
      "jdeathe/centos-ssh-apache-php   CentOS-6 6.7 x86_64 / Apache / PHP / PHP M...   17                   [OK]\r\n",
      "million12/centos-supervisor     Base CentOS-7 with supervisord launcher, h...   11                   [OK]\r\n",
      "nimmis/java-centos              This is docker images of CentOS 7 with dif...   10                   [OK]\r\n",
      "torusware/speedus-centos        Always updated official CentOS docker imag...   8                    [OK]\r\n",
      "nickistre/centos-lamp           LAMP on centos setup                            4                    [OK]\r\n",
      "centos/mariadb55-centos7                                                        3                    [OK]\r\n",
      "nathonfowlie/centos-jre         Latest CentOS image with the JRE pre-insta...   3                    [OK]\r\n",
      "consol/sakuli-centos-xfce       Sakuli end-2-end testing and monitoring co...   2                    [OK]\r\n",
      "blacklabelops/centos            CentOS Base Image! Built and Updates Daily!     1                    [OK]\r\n",
      "darksheer/centos                Base Centos Image -- Updated hourly             1                    [OK]\r\n",
      "pacur/centos-7                  Pacur CentOS 7                                  1                    [OK]\r\n",
      "lighthopper/orientdb-centos     A Dockerfile for creating an OrientDB imag...   1                    [OK]\r\n",
      "yajo/centos-epel                CentOS with EPEL and fully updated              1                    [OK]\r\n",
      "timhughes/centos                Centos with systemd installed and running       1                    [OK]\r\n",
      "ustclug/centos                   USTC centos                                    0                    [OK]\r\n",
      "januswel/centos                 yum update-ed CentOS image                      0                    [OK]\r\n",
      "ericuni/centos                  centos dev                                      0                    [OK]\r\n",
      "repositoryjp/centos             Docker Image for CentOS.                        0                    [OK]\r\n",
      "grayzone/centos                 auto build for centos.                          0                    [OK]\r\n",
      "grossws/centos                  CentOS 6 and 7 base images with gosu and l...   0                    [OK]\r\n",
      "jsmigel/centos-epel             Docker base image of CentOS w/ EPEL installed   0                    [OK]\r\n",
      "labengine/centos                Centos image base                               0                    [OK]\r\n",
      "lighthopper/openjdk-centos      A Dockerfile for creating an OpenJDK image...   0                    [OK]\r\n"
     ]
    }
   ],
   "source": [
    "docker search centos"
   ]
  },
  {
   "cell_type": "markdown",
   "metadata": {
    "slideshow": {
     "slide_type": "subslide"
    }
   },
   "source": [
    "Il y a surement une image docker pour vous sur le registry Docker ou vous pouvez la générer via un Dockerfile. Ce Dockerfile se contruit à partir d'une image de base officielle Python.\n",
    "```docker\n",
    "FROM python:2.7\n",
    "MAINTAINER jmp \"jean-marc.pouchoulon@iutbeziers.fr\"\n",
    "RUN mkdir /code\n",
    "WORKDIR /code\n",
    "ADD app.py /code/\n",
    "ADD requirements.txt /code/\n",
    "RUN pip install -r requirements.txt\n",
    "EXPOSE 5000\n",
    "ENTRYPOINT [\"python\"]\n",
    "CMD [\"app.py\"]\n",
    "```\n",
    "La commande suivante génère une image dont le nom est jmp/monappli. Le \".\" représente le fichier Dockerfile\n"
   ]
  },
  {
   "cell_type": "code",
   "execution_count": 12,
   "metadata": {
    "collapsed": false,
    "slideshow": {
     "slide_type": "subslide"
    }
   },
   "outputs": [
    {
     "name": "stdout",
     "output_type": "stream",
     "text": [
      "Sending build context to Docker daemon 48.64 kB\r",
      "\r",
      "\r\n",
      "Step 1 : FROM python:2.7\r\n",
      " ---> 11a8b7c7f0ca\r\n",
      "Step 2 : MAINTAINER jmp \"jean-marc.pouchoulon@iutbeziers.fr\"\r\n",
      " ---> Using cache\r\n",
      " ---> 582799d14b4d\r\n",
      "Step 3 : RUN mkdir /code\r\n",
      " ---> Using cache\r\n",
      " ---> 583b0877d5b0\r\n",
      "Step 4 : WORKDIR /code\r\n",
      " ---> Using cache\r\n",
      " ---> 1db31500eed0\r\n",
      "Step 5 : ADD app.py /code/\r\n",
      " ---> Using cache\r\n",
      " ---> 27918081be3c\r\n",
      "Step 6 : ADD requirements.txt /code/\r\n",
      " ---> Using cache\r\n",
      " ---> af2f64764eb7\r\n",
      "Step 7 : RUN pip install -r requirements.txt\r\n",
      " ---> Using cache\r\n",
      " ---> eec53fab8f81\r\n",
      "Step 8 : EXPOSE 5000\r\n",
      " ---> Using cache\r\n",
      " ---> acd901255d96\r\n",
      "Successfully built acd901255d96\r\n"
     ]
    }
   ],
   "source": [
    "docker build -t jmp/monappli ."
   ]
  },
  {
   "cell_type": "markdown",
   "metadata": {
    "slideshow": {
     "slide_type": "subslide"
    }
   },
   "source": [
    "On vérifie que l'image a été générée:"
   ]
  },
  {
   "cell_type": "code",
   "execution_count": 13,
   "metadata": {
    "collapsed": false,
    "slideshow": {
     "slide_type": "fragment"
    }
   },
   "outputs": [
    {
     "name": "stdout",
     "output_type": "stream",
     "text": [
      "REPOSITORY           TAG                 IMAGE ID            CREATED             SIZE\r\n",
      "jmp/monappli         latest              acd901255d96        22 minutes ago      671.4 MB\r\n",
      "jmp/openvpnclient2   latest              cf2bfbc385b4        8 days ago          184 MB\r\n",
      "jmp/ovpnserv2        latest              d5575f090621        8 days ago          201.3 MB\r\n",
      "jmp/ovpnserv         latest              271dec47207c        8 days ago          184 MB\r\n",
      "jmp/debiancurl       latest              21358dd1930d        2 weeks ago         258.8 MB\r\n",
      "jmp/debianiut        latest              1a6a371199b7        5 weeks ago         164.1 MB\r\n"
     ]
    }
   ],
   "source": [
    "docker images jmp/*"
   ]
  },
  {
   "cell_type": "markdown",
   "metadata": {
    "slideshow": {
     "slide_type": "subslide"
    }
   },
   "source": [
    "On peut alors instancier le container en utilisant l'image que l'on vient de contruire et visualiser le \"hello world de notre application\""
   ]
  },
  {
   "cell_type": "code",
   "execution_count": 15,
   "metadata": {
    "collapsed": false,
    "slideshow": {
     "slide_type": "fragment"
    }
   },
   "outputs": [
    {
     "name": "stdout",
     "output_type": "stream",
     "text": [
      "cd9950c541c48231b30e607548ff89342a055c5cdbcb2226532427fb0d598135\r\n"
     ]
    }
   ],
   "source": [
    "docker run -d -p 5000:5000 jmp/monappli python app.py"
   ]
  },
  {
   "cell_type": "code",
   "execution_count": 16,
   "metadata": {
    "collapsed": false
   },
   "outputs": [
    {
     "name": "stdout",
     "output_type": "stream",
     "text": [
      "Hello World!"
     ]
    }
   ],
   "source": [
    "wget -qO- http://localhost:5000"
   ]
  },
  {
   "cell_type": "markdown",
   "metadata": {},
   "source": []
  }
 ],
 "metadata": {
  "celltoolbar": "Slideshow",
  "kernelspec": {
   "display_name": "Bash",
   "language": "bash",
   "name": "bash"
  },
  "language_info": {
   "codemirror_mode": "shell",
   "file_extension": ".sh",
   "mimetype": "text/x-sh",
   "name": "bash"
  }
 },
 "nbformat": 4,
 "nbformat_minor": 0
}
